{
 "cells": [
  {
   "cell_type": "markdown",
   "id": "1493b359",
   "metadata": {},
   "source": [
    "# Lab: Estimating a binary choice model using Biogeme\n",
    "\n",
    "In this lab, we will learn how to estimate a binary choice model using the software [Biogeme](https://biogeme.epfl.ch). We will be working with the Evacuation data experiment, and learn how to: \n",
    "\n",
    "* Analyze the data \n",
    "* Formulate utility functions\n",
    "* Define parameters and variables \n",
    "* Set availability conditions\n",
    "* Run the model\n",
    "* And finally, interpret the results. \n"
   ]
  },
  {
   "cell_type": "markdown",
   "id": "32d72b4e",
   "metadata": {},
   "source": [
    "## Requirements\n",
    "\n",
    "Before starting, make sure that you have all required packages to run this notebook. We recommended creating a new environment to avoid packages clashing with each others. \n",
    "We will be using **PandasBiogeme 3.2.14**. To install, you can run `pip install biogeme`in your terminal, or Anaconda navigator. You can also run the following cell to install a package directly in this jupyter notebook. "
   ]
  },
  {
   "cell_type": "code",
   "execution_count": 1,
   "id": "c068441d",
   "metadata": {},
   "outputs": [],
   "source": [
    "#!pip install biogeme  \n",
    "#Uncomment this cell to install biogeme in the notebook, keeping the ! command at the beginning of the line "
   ]
  },
  {
   "cell_type": "code",
   "execution_count": 2,
   "id": "29055135-b429-43fa-bd99-d490b0d8a47c",
   "metadata": {},
   "outputs": [
    {
     "name": "stdout",
     "output_type": "stream",
     "text": [
      "biogeme 3.2.14 [2024-12-17]\n",
      "Home page: http://biogeme.epfl.ch\n",
      "Submit questions to https://groups.google.com/d/forum/biogeme\n",
      "Michel Bierlaire, Transport and Mobility Laboratory, Ecole Polytechnique Fédérale de Lausanne (EPFL)\n",
      "\n"
     ]
    }
   ],
   "source": [
    "#Check which version of biogeme you're running in this notebook\n",
    "from biogeme.version import get_text\n",
    "print(get_text())"
   ]
  },
  {
   "cell_type": "markdown",
   "id": "768078d8",
   "metadata": {},
   "source": [
    "We will start by important all the required libraries (**pandas**, **numpy**, and **matplotlib**), and biogeme modules and objects.\n"
   ]
  },
  {
   "cell_type": "code",
   "execution_count": 3,
   "id": "23eac8cc-4863-433f-9a65-0d8a30593bb4",
   "metadata": {
    "ExecuteTime": {
     "end_time": "2024-12-17T16:48:30.780926Z",
     "start_time": "2024-12-17T16:48:30.771646Z"
    }
   },
   "outputs": [],
   "source": [
    "import matplotlib\n",
    "import pandas as pd\n",
    "import numpy as np\n",
    "\n",
    "import biogeme.database as db\n",
    "import biogeme.biogeme as bio\n",
    "\n",
    "import matplotlib.pyplot as plt \n",
    "\n",
    "from biogeme.expressions import Variable\n",
    "from biogeme import models\n",
    "from biogeme.expressions import Beta, bioDraws, PanelLikelihoodTrajectory, MonteCarlo,log\n",
    "from biogeme.parameters import Parameters\n",
    "\n",
    "#Style for all plots in notebook\n",
    "matplotlib.style.use('ggplot')\n",
    "\n",
    "#Set random seed for reproducible results\n",
    "np.random.seed(seed=1234)\n"
   ]
  },
  {
   "cell_type": "markdown",
   "id": "f374c434",
   "metadata": {},
   "source": [
    "## Data exploration and preparation\n",
    "\n",
    "We will load the data into a Pandas Dataframe. Dataframes are powerful and flexible objects to store, manipulate and visualize data. Dataframes can be created in multiple ways. Here, we will import the CSV containing our data. We will do so by using the `read_csv` method provided by Pandas. \n",
    "\n",
    "*NB: Make sure that the CSV is included in the same folder as this notebook, or change the path to the file in the following cell*"
   ]
  },
  {
   "cell_type": "code",
   "execution_count": 4,
   "id": "6ced663c-25d3-4df0-ac49-e1dfb6afeff6",
   "metadata": {
    "ExecuteTime": {
     "end_time": "2024-12-17T16:48:31.970682Z",
     "start_time": "2024-12-17T16:48:31.955552Z"
    }
   },
   "outputs": [],
   "source": [
    "data = pd.read_csv(\"CEE377_Lab1_Data.csv\")"
   ]
  },
  {
   "cell_type": "markdown",
   "id": "bb7c908e",
   "metadata": {},
   "source": [
    "Let's have a look at the dataset. We can use the function `head()` to display the first 5 rows of the dataset. You can also specify a specific number of row as an argument, e.g. `data.head(10)` displays the first 10 rows. \n",
    "\n",
    "The dataset contains an identifying column **INDIV_ID**. As you can see, there are multiple observations for the same individual (corresponding to the responses to each experiment). This means that we are dealing with **panel data**, which has some implications on the model formulation. You saw in class that alternatives are assumed to be I.I.D., but in this case, they are not independent: many observations are correlated as they share the same individual-specific attributes. You will see later how to deal with these correlations.\n",
    "\n",
    "The choice is given by the column **ALT**, which takes the value **1** of the person chose to evacuate, and **2** if the person chose to stay. "
   ]
  },
  {
   "cell_type": "code",
   "execution_count": 5,
   "id": "baf61c01-a598-4240-8032-c6ff0ba741f4",
   "metadata": {
    "ExecuteTime": {
     "end_time": "2024-12-17T16:48:32.491637Z",
     "start_time": "2024-12-17T16:48:32.475974Z"
    }
   },
   "outputs": [
    {
     "data": {
      "text/html": [
       "<div>\n",
       "<style scoped>\n",
       "    .dataframe tbody tr th:only-of-type {\n",
       "        vertical-align: middle;\n",
       "    }\n",
       "\n",
       "    .dataframe tbody tr th {\n",
       "        vertical-align: top;\n",
       "    }\n",
       "\n",
       "    .dataframe thead th {\n",
       "        text-align: right;\n",
       "    }\n",
       "</style>\n",
       "<table border=\"1\" class=\"dataframe\">\n",
       "  <thead>\n",
       "    <tr style=\"text-align: right;\">\n",
       "      <th></th>\n",
       "      <th>INDIV_ID</th>\n",
       "      <th>ALT</th>\n",
       "      <th>COST</th>\n",
       "      <th>DISTANCE</th>\n",
       "      <th>WAITTIME</th>\n",
       "      <th>TRAVELTIME</th>\n",
       "      <th>SHAREFRONT</th>\n",
       "      <th>SHAREBACK</th>\n",
       "      <th>PRIVATE</th>\n",
       "      <th>URGENCY</th>\n",
       "      <th>...</th>\n",
       "      <th>AREA</th>\n",
       "      <th>HH_SIZE</th>\n",
       "      <th>VEHICLES</th>\n",
       "      <th>REP</th>\n",
       "      <th>DEM</th>\n",
       "      <th>CHILDREN</th>\n",
       "      <th>ELDERLY</th>\n",
       "      <th>DISABILITY</th>\n",
       "      <th>NONENGLISH</th>\n",
       "      <th>PETS</th>\n",
       "    </tr>\n",
       "  </thead>\n",
       "  <tbody>\n",
       "    <tr>\n",
       "      <th>0</th>\n",
       "      <td>2</td>\n",
       "      <td>1</td>\n",
       "      <td>40</td>\n",
       "      <td>0.50</td>\n",
       "      <td>0</td>\n",
       "      <td>60</td>\n",
       "      <td>0</td>\n",
       "      <td>0</td>\n",
       "      <td>1</td>\n",
       "      <td>3</td>\n",
       "      <td>...</td>\n",
       "      <td>3</td>\n",
       "      <td>2</td>\n",
       "      <td>2</td>\n",
       "      <td>0</td>\n",
       "      <td>0</td>\n",
       "      <td>0</td>\n",
       "      <td>1</td>\n",
       "      <td>0</td>\n",
       "      <td>0</td>\n",
       "      <td>1</td>\n",
       "    </tr>\n",
       "    <tr>\n",
       "      <th>1</th>\n",
       "      <td>2</td>\n",
       "      <td>2</td>\n",
       "      <td>0</td>\n",
       "      <td>0.25</td>\n",
       "      <td>60</td>\n",
       "      <td>40</td>\n",
       "      <td>0</td>\n",
       "      <td>0</td>\n",
       "      <td>1</td>\n",
       "      <td>1</td>\n",
       "      <td>...</td>\n",
       "      <td>3</td>\n",
       "      <td>2</td>\n",
       "      <td>2</td>\n",
       "      <td>0</td>\n",
       "      <td>0</td>\n",
       "      <td>0</td>\n",
       "      <td>1</td>\n",
       "      <td>0</td>\n",
       "      <td>0</td>\n",
       "      <td>1</td>\n",
       "    </tr>\n",
       "    <tr>\n",
       "      <th>2</th>\n",
       "      <td>2</td>\n",
       "      <td>2</td>\n",
       "      <td>0</td>\n",
       "      <td>0.50</td>\n",
       "      <td>60</td>\n",
       "      <td>40</td>\n",
       "      <td>0</td>\n",
       "      <td>1</td>\n",
       "      <td>0</td>\n",
       "      <td>1</td>\n",
       "      <td>...</td>\n",
       "      <td>3</td>\n",
       "      <td>2</td>\n",
       "      <td>2</td>\n",
       "      <td>0</td>\n",
       "      <td>0</td>\n",
       "      <td>0</td>\n",
       "      <td>1</td>\n",
       "      <td>0</td>\n",
       "      <td>0</td>\n",
       "      <td>1</td>\n",
       "    </tr>\n",
       "    <tr>\n",
       "      <th>3</th>\n",
       "      <td>2</td>\n",
       "      <td>2</td>\n",
       "      <td>0</td>\n",
       "      <td>0.25</td>\n",
       "      <td>30</td>\n",
       "      <td>60</td>\n",
       "      <td>1</td>\n",
       "      <td>0</td>\n",
       "      <td>0</td>\n",
       "      <td>2</td>\n",
       "      <td>...</td>\n",
       "      <td>3</td>\n",
       "      <td>2</td>\n",
       "      <td>2</td>\n",
       "      <td>0</td>\n",
       "      <td>0</td>\n",
       "      <td>0</td>\n",
       "      <td>1</td>\n",
       "      <td>0</td>\n",
       "      <td>0</td>\n",
       "      <td>1</td>\n",
       "    </tr>\n",
       "    <tr>\n",
       "      <th>4</th>\n",
       "      <td>2</td>\n",
       "      <td>2</td>\n",
       "      <td>0</td>\n",
       "      <td>0.50</td>\n",
       "      <td>30</td>\n",
       "      <td>20</td>\n",
       "      <td>0</td>\n",
       "      <td>0</td>\n",
       "      <td>1</td>\n",
       "      <td>2</td>\n",
       "      <td>...</td>\n",
       "      <td>3</td>\n",
       "      <td>2</td>\n",
       "      <td>2</td>\n",
       "      <td>0</td>\n",
       "      <td>0</td>\n",
       "      <td>0</td>\n",
       "      <td>1</td>\n",
       "      <td>0</td>\n",
       "      <td>0</td>\n",
       "      <td>1</td>\n",
       "    </tr>\n",
       "    <tr>\n",
       "      <th>5</th>\n",
       "      <td>2</td>\n",
       "      <td>2</td>\n",
       "      <td>40</td>\n",
       "      <td>0.50</td>\n",
       "      <td>0</td>\n",
       "      <td>60</td>\n",
       "      <td>0</td>\n",
       "      <td>1</td>\n",
       "      <td>0</td>\n",
       "      <td>2</td>\n",
       "      <td>...</td>\n",
       "      <td>3</td>\n",
       "      <td>2</td>\n",
       "      <td>2</td>\n",
       "      <td>0</td>\n",
       "      <td>0</td>\n",
       "      <td>0</td>\n",
       "      <td>1</td>\n",
       "      <td>0</td>\n",
       "      <td>0</td>\n",
       "      <td>1</td>\n",
       "    </tr>\n",
       "    <tr>\n",
       "      <th>6</th>\n",
       "      <td>17</td>\n",
       "      <td>1</td>\n",
       "      <td>40</td>\n",
       "      <td>0.00</td>\n",
       "      <td>60</td>\n",
       "      <td>40</td>\n",
       "      <td>0</td>\n",
       "      <td>0</td>\n",
       "      <td>1</td>\n",
       "      <td>3</td>\n",
       "      <td>...</td>\n",
       "      <td>2</td>\n",
       "      <td>4</td>\n",
       "      <td>3</td>\n",
       "      <td>0</td>\n",
       "      <td>1</td>\n",
       "      <td>1</td>\n",
       "      <td>0</td>\n",
       "      <td>0</td>\n",
       "      <td>0</td>\n",
       "      <td>1</td>\n",
       "    </tr>\n",
       "    <tr>\n",
       "      <th>7</th>\n",
       "      <td>17</td>\n",
       "      <td>2</td>\n",
       "      <td>0</td>\n",
       "      <td>0.25</td>\n",
       "      <td>60</td>\n",
       "      <td>40</td>\n",
       "      <td>0</td>\n",
       "      <td>0</td>\n",
       "      <td>1</td>\n",
       "      <td>1</td>\n",
       "      <td>...</td>\n",
       "      <td>2</td>\n",
       "      <td>4</td>\n",
       "      <td>3</td>\n",
       "      <td>0</td>\n",
       "      <td>1</td>\n",
       "      <td>1</td>\n",
       "      <td>0</td>\n",
       "      <td>0</td>\n",
       "      <td>0</td>\n",
       "      <td>1</td>\n",
       "    </tr>\n",
       "    <tr>\n",
       "      <th>8</th>\n",
       "      <td>17</td>\n",
       "      <td>2</td>\n",
       "      <td>0</td>\n",
       "      <td>0.50</td>\n",
       "      <td>60</td>\n",
       "      <td>40</td>\n",
       "      <td>0</td>\n",
       "      <td>1</td>\n",
       "      <td>0</td>\n",
       "      <td>1</td>\n",
       "      <td>...</td>\n",
       "      <td>2</td>\n",
       "      <td>4</td>\n",
       "      <td>3</td>\n",
       "      <td>0</td>\n",
       "      <td>1</td>\n",
       "      <td>1</td>\n",
       "      <td>0</td>\n",
       "      <td>0</td>\n",
       "      <td>0</td>\n",
       "      <td>1</td>\n",
       "    </tr>\n",
       "    <tr>\n",
       "      <th>9</th>\n",
       "      <td>17</td>\n",
       "      <td>2</td>\n",
       "      <td>0</td>\n",
       "      <td>0.25</td>\n",
       "      <td>30</td>\n",
       "      <td>60</td>\n",
       "      <td>1</td>\n",
       "      <td>0</td>\n",
       "      <td>0</td>\n",
       "      <td>2</td>\n",
       "      <td>...</td>\n",
       "      <td>2</td>\n",
       "      <td>4</td>\n",
       "      <td>3</td>\n",
       "      <td>0</td>\n",
       "      <td>1</td>\n",
       "      <td>1</td>\n",
       "      <td>0</td>\n",
       "      <td>0</td>\n",
       "      <td>0</td>\n",
       "      <td>1</td>\n",
       "    </tr>\n",
       "  </tbody>\n",
       "</table>\n",
       "<p>10 rows × 32 columns</p>\n",
       "</div>"
      ],
      "text/plain": [
       "   INDIV_ID  ALT  COST  DISTANCE  WAITTIME  TRAVELTIME  SHAREFRONT  SHAREBACK  \\\n",
       "0         2    1    40      0.50         0          60           0          0   \n",
       "1         2    2     0      0.25        60          40           0          0   \n",
       "2         2    2     0      0.50        60          40           0          1   \n",
       "3         2    2     0      0.25        30          60           1          0   \n",
       "4         2    2     0      0.50        30          20           0          0   \n",
       "5         2    2    40      0.50         0          60           0          1   \n",
       "6        17    1    40      0.00        60          40           0          0   \n",
       "7        17    2     0      0.25        60          40           0          0   \n",
       "8        17    2     0      0.50        60          40           0          1   \n",
       "9        17    2     0      0.25        30          60           1          0   \n",
       "\n",
       "   PRIVATE  URGENCY  ...  AREA  HH_SIZE  VEHICLES  REP  DEM  CHILDREN  \\\n",
       "0        1        3  ...     3        2         2    0    0         0   \n",
       "1        1        1  ...     3        2         2    0    0         0   \n",
       "2        0        1  ...     3        2         2    0    0         0   \n",
       "3        0        2  ...     3        2         2    0    0         0   \n",
       "4        1        2  ...     3        2         2    0    0         0   \n",
       "5        0        2  ...     3        2         2    0    0         0   \n",
       "6        1        3  ...     2        4         3    0    1         1   \n",
       "7        1        1  ...     2        4         3    0    1         1   \n",
       "8        0        1  ...     2        4         3    0    1         1   \n",
       "9        0        2  ...     2        4         3    0    1         1   \n",
       "\n",
       "   ELDERLY  DISABILITY  NONENGLISH  PETS  \n",
       "0        1           0           0     1  \n",
       "1        1           0           0     1  \n",
       "2        1           0           0     1  \n",
       "3        1           0           0     1  \n",
       "4        1           0           0     1  \n",
       "5        1           0           0     1  \n",
       "6        0           0           0     1  \n",
       "7        0           0           0     1  \n",
       "8        0           0           0     1  \n",
       "9        0           0           0     1  \n",
       "\n",
       "[10 rows x 32 columns]"
      ]
     },
     "execution_count": 5,
     "metadata": {},
     "output_type": "execute_result"
    }
   ],
   "source": [
    "data.head(10)"
   ]
  },
  {
   "cell_type": "markdown",
   "id": "b6a2f43a",
   "metadata": {},
   "source": [
    "You can use the dataframe attribute `columns` to display the column names. These will be potential features to include in our model. \n",
    "\n",
    "Some features are **attributes** of the alternatives, meaning that the value they take depend on the choice. For example, it's the case of the attributes **COST** or **TRAVEL TIME**. Other features are **socio-economic variables**. They characterize the individual and therefore do not vary with the alternatives. For example, **GENDER**, **INCOME** are socio-economic variables. \n",
    "\n",
    "The category of feature will dictate how we include them in the utility functions. Only the difference in utilities matters when we're estimating the discrete choice model, and socio-economic variables are constant with respect to the alternatives -- meaning that they would be canceled out when we're looking at utility differences. We therefore need to include them in a way that creates a difference in utility. If you have *n* alternatives, this is typically done by including the socio-economic variable in at most *n-1* alternatives."
   ]
  },
  {
   "cell_type": "code",
   "execution_count": 6,
   "id": "026ab42c-208d-4c65-bfa3-13816631523b",
   "metadata": {
    "ExecuteTime": {
     "end_time": "2024-12-17T16:48:32.923713Z",
     "start_time": "2024-12-17T16:48:32.917907Z"
    }
   },
   "outputs": [
    {
     "data": {
      "text/plain": [
       "Index(['INDIV_ID', 'ALT', 'COST', 'DISTANCE', 'WAITTIME', 'TRAVELTIME',\n",
       "       'SHAREFRONT', 'SHAREBACK', 'PRIVATE', 'URGENCY', 'PEERCHOICE_GO',\n",
       "       'PEERCHOICE_STAY', 'PAUSING', 'REOPENING', 'REOPENED', 'THREAT',\n",
       "       'GENDER', 'AGE', 'INCOME', 'EMPLOYMENT', 'RACE', 'HISPANIC', 'AREA',\n",
       "       'HH_SIZE', 'VEHICLES', 'REP', 'DEM', 'CHILDREN', 'ELDERLY',\n",
       "       'DISABILITY', 'NONENGLISH', 'PETS'],\n",
       "      dtype='object')"
      ]
     },
     "execution_count": 6,
     "metadata": {},
     "output_type": "execute_result"
    }
   ],
   "source": [
    "data.columns"
   ]
  },
  {
   "cell_type": "markdown",
   "id": "45918219",
   "metadata": {},
   "source": [
    "Let's have a look at the **types** of these features. As you can see, all of them are **numerical**. However, for modeling purposes, it is important to distinguish **continuous variables** from **categorical variables**. \n",
    "\n",
    "- Continuous variables (such as **DISTANCE**), that are also attributes, can be included in the utility functions without further transformation. \n",
    "- Continuous socio-economic variables (such as **AGE**), can be included as such but not in all alternatives (see above). \n",
    "- Categorical variables can be of 2 types: **nominal** or **ordinal**. If ordinal, a ranking is implied and they can be treated as numerical data (e.g. **URGENCY**). If they are nominal, there is no ranking between categories (e.g. **GENDER**). If we include them as such, the model may assume an inherent order or relationship between the categories. There are different ways to avoid this and make sure that the model treats the categories as distinct. At the preprocessing stage, we can **one-hot encode** the variable, meaning that we create new dummy binary variables for each category. This new variable takes the value 1 if the individual belongs to the given category, and 0 otherwise (e.g. **HISPANIC**). You'll see later during the course that steps can be taken also during the modeling process (segmentation).\n",
    "\n",
    "Let's create a new column **FEMALE**, which takes the value 1 when the **GENDER** is 2.\n",
    "\n",
    "We can create a column by directly calling it with the following syntax: `dataframe[\"column name\"]` or `dataframe.loc[:, \"column_name\"]`. The right-hand side of the expression is a condition on the gender column. `(data['GENDER']==2)` returns a *boolean* (True/False variable), that is True if Gender is 2. We multiply this boolean by 1 to transform it into a numerical value."
   ]
  },
  {
   "cell_type": "code",
   "execution_count": 7,
   "id": "c2177cbb",
   "metadata": {
    "ExecuteTime": {
     "end_time": "2024-12-17T16:48:33.645448Z",
     "start_time": "2024-12-17T16:48:33.640425Z"
    }
   },
   "outputs": [],
   "source": [
    "data['FEMALE'] = (data['GENDER']==2)*1"
   ]
  },
  {
   "cell_type": "code",
   "execution_count": 8,
   "id": "bb8a07d7",
   "metadata": {
    "ExecuteTime": {
     "end_time": "2024-12-17T16:48:33.990966Z",
     "start_time": "2024-12-17T16:48:33.981732Z"
    }
   },
   "outputs": [
    {
     "data": {
      "text/html": [
       "<div>\n",
       "<style scoped>\n",
       "    .dataframe tbody tr th:only-of-type {\n",
       "        vertical-align: middle;\n",
       "    }\n",
       "\n",
       "    .dataframe tbody tr th {\n",
       "        vertical-align: top;\n",
       "    }\n",
       "\n",
       "    .dataframe thead th {\n",
       "        text-align: right;\n",
       "    }\n",
       "</style>\n",
       "<table border=\"1\" class=\"dataframe\">\n",
       "  <thead>\n",
       "    <tr style=\"text-align: right;\">\n",
       "      <th></th>\n",
       "      <th>GENDER</th>\n",
       "      <th>FEMALE</th>\n",
       "    </tr>\n",
       "  </thead>\n",
       "  <tbody>\n",
       "    <tr>\n",
       "      <th>0</th>\n",
       "      <td>2</td>\n",
       "      <td>1</td>\n",
       "    </tr>\n",
       "    <tr>\n",
       "      <th>1</th>\n",
       "      <td>2</td>\n",
       "      <td>1</td>\n",
       "    </tr>\n",
       "    <tr>\n",
       "      <th>2</th>\n",
       "      <td>2</td>\n",
       "      <td>1</td>\n",
       "    </tr>\n",
       "    <tr>\n",
       "      <th>3</th>\n",
       "      <td>2</td>\n",
       "      <td>1</td>\n",
       "    </tr>\n",
       "    <tr>\n",
       "      <th>4</th>\n",
       "      <td>2</td>\n",
       "      <td>1</td>\n",
       "    </tr>\n",
       "  </tbody>\n",
       "</table>\n",
       "</div>"
      ],
      "text/plain": [
       "   GENDER  FEMALE\n",
       "0       2       1\n",
       "1       2       1\n",
       "2       2       1\n",
       "3       2       1\n",
       "4       2       1"
      ]
     },
     "execution_count": 8,
     "metadata": {},
     "output_type": "execute_result"
    }
   ],
   "source": [
    "data[['GENDER', 'FEMALE']].head()"
   ]
  },
  {
   "cell_type": "markdown",
   "id": "ac505df4",
   "metadata": {},
   "source": [
    "If you're dealing with more than 2 categories, it will be faster to use pandas' [`get_dummies()`](https://pandas.pydata.org/docs/reference/api/pandas.get_dummies.html) function.\n",
    "\n",
    "For example, we can create dummies out of the **INCOME** variable, which has 13 categories. \n"
   ]
  },
  {
   "cell_type": "code",
   "execution_count": 9,
   "id": "871771b7",
   "metadata": {
    "ExecuteTime": {
     "end_time": "2024-12-17T16:48:34.476850Z",
     "start_time": "2024-12-17T16:48:34.458230Z"
    }
   },
   "outputs": [
    {
     "data": {
      "text/html": [
       "<div>\n",
       "<style scoped>\n",
       "    .dataframe tbody tr th:only-of-type {\n",
       "        vertical-align: middle;\n",
       "    }\n",
       "\n",
       "    .dataframe tbody tr th {\n",
       "        vertical-align: top;\n",
       "    }\n",
       "\n",
       "    .dataframe thead th {\n",
       "        text-align: right;\n",
       "    }\n",
       "</style>\n",
       "<table border=\"1\" class=\"dataframe\">\n",
       "  <thead>\n",
       "    <tr style=\"text-align: right;\">\n",
       "      <th></th>\n",
       "      <th>INCOME_0</th>\n",
       "      <th>INCOME_1</th>\n",
       "      <th>INCOME_2</th>\n",
       "      <th>INCOME_3</th>\n",
       "      <th>INCOME_4</th>\n",
       "      <th>INCOME_5</th>\n",
       "      <th>INCOME_6</th>\n",
       "      <th>INCOME_7</th>\n",
       "      <th>INCOME_8</th>\n",
       "      <th>INCOME_9</th>\n",
       "      <th>INCOME_10</th>\n",
       "      <th>INCOME_11</th>\n",
       "      <th>INCOME_12</th>\n",
       "    </tr>\n",
       "  </thead>\n",
       "  <tbody>\n",
       "    <tr>\n",
       "      <th>0</th>\n",
       "      <td>0</td>\n",
       "      <td>0</td>\n",
       "      <td>0</td>\n",
       "      <td>0</td>\n",
       "      <td>0</td>\n",
       "      <td>1</td>\n",
       "      <td>0</td>\n",
       "      <td>0</td>\n",
       "      <td>0</td>\n",
       "      <td>0</td>\n",
       "      <td>0</td>\n",
       "      <td>0</td>\n",
       "      <td>0</td>\n",
       "    </tr>\n",
       "    <tr>\n",
       "      <th>1</th>\n",
       "      <td>0</td>\n",
       "      <td>0</td>\n",
       "      <td>0</td>\n",
       "      <td>0</td>\n",
       "      <td>0</td>\n",
       "      <td>1</td>\n",
       "      <td>0</td>\n",
       "      <td>0</td>\n",
       "      <td>0</td>\n",
       "      <td>0</td>\n",
       "      <td>0</td>\n",
       "      <td>0</td>\n",
       "      <td>0</td>\n",
       "    </tr>\n",
       "    <tr>\n",
       "      <th>2</th>\n",
       "      <td>0</td>\n",
       "      <td>0</td>\n",
       "      <td>0</td>\n",
       "      <td>0</td>\n",
       "      <td>0</td>\n",
       "      <td>1</td>\n",
       "      <td>0</td>\n",
       "      <td>0</td>\n",
       "      <td>0</td>\n",
       "      <td>0</td>\n",
       "      <td>0</td>\n",
       "      <td>0</td>\n",
       "      <td>0</td>\n",
       "    </tr>\n",
       "    <tr>\n",
       "      <th>3</th>\n",
       "      <td>0</td>\n",
       "      <td>0</td>\n",
       "      <td>0</td>\n",
       "      <td>0</td>\n",
       "      <td>0</td>\n",
       "      <td>1</td>\n",
       "      <td>0</td>\n",
       "      <td>0</td>\n",
       "      <td>0</td>\n",
       "      <td>0</td>\n",
       "      <td>0</td>\n",
       "      <td>0</td>\n",
       "      <td>0</td>\n",
       "    </tr>\n",
       "    <tr>\n",
       "      <th>4</th>\n",
       "      <td>0</td>\n",
       "      <td>0</td>\n",
       "      <td>0</td>\n",
       "      <td>0</td>\n",
       "      <td>0</td>\n",
       "      <td>1</td>\n",
       "      <td>0</td>\n",
       "      <td>0</td>\n",
       "      <td>0</td>\n",
       "      <td>0</td>\n",
       "      <td>0</td>\n",
       "      <td>0</td>\n",
       "      <td>0</td>\n",
       "    </tr>\n",
       "    <tr>\n",
       "      <th>...</th>\n",
       "      <td>...</td>\n",
       "      <td>...</td>\n",
       "      <td>...</td>\n",
       "      <td>...</td>\n",
       "      <td>...</td>\n",
       "      <td>...</td>\n",
       "      <td>...</td>\n",
       "      <td>...</td>\n",
       "      <td>...</td>\n",
       "      <td>...</td>\n",
       "      <td>...</td>\n",
       "      <td>...</td>\n",
       "      <td>...</td>\n",
       "    </tr>\n",
       "    <tr>\n",
       "      <th>709</th>\n",
       "      <td>0</td>\n",
       "      <td>0</td>\n",
       "      <td>0</td>\n",
       "      <td>0</td>\n",
       "      <td>0</td>\n",
       "      <td>1</td>\n",
       "      <td>0</td>\n",
       "      <td>0</td>\n",
       "      <td>0</td>\n",
       "      <td>0</td>\n",
       "      <td>0</td>\n",
       "      <td>0</td>\n",
       "      <td>0</td>\n",
       "    </tr>\n",
       "    <tr>\n",
       "      <th>710</th>\n",
       "      <td>0</td>\n",
       "      <td>0</td>\n",
       "      <td>0</td>\n",
       "      <td>0</td>\n",
       "      <td>0</td>\n",
       "      <td>1</td>\n",
       "      <td>0</td>\n",
       "      <td>0</td>\n",
       "      <td>0</td>\n",
       "      <td>0</td>\n",
       "      <td>0</td>\n",
       "      <td>0</td>\n",
       "      <td>0</td>\n",
       "    </tr>\n",
       "    <tr>\n",
       "      <th>711</th>\n",
       "      <td>0</td>\n",
       "      <td>0</td>\n",
       "      <td>0</td>\n",
       "      <td>0</td>\n",
       "      <td>0</td>\n",
       "      <td>1</td>\n",
       "      <td>0</td>\n",
       "      <td>0</td>\n",
       "      <td>0</td>\n",
       "      <td>0</td>\n",
       "      <td>0</td>\n",
       "      <td>0</td>\n",
       "      <td>0</td>\n",
       "    </tr>\n",
       "    <tr>\n",
       "      <th>712</th>\n",
       "      <td>0</td>\n",
       "      <td>0</td>\n",
       "      <td>0</td>\n",
       "      <td>0</td>\n",
       "      <td>0</td>\n",
       "      <td>1</td>\n",
       "      <td>0</td>\n",
       "      <td>0</td>\n",
       "      <td>0</td>\n",
       "      <td>0</td>\n",
       "      <td>0</td>\n",
       "      <td>0</td>\n",
       "      <td>0</td>\n",
       "    </tr>\n",
       "    <tr>\n",
       "      <th>713</th>\n",
       "      <td>0</td>\n",
       "      <td>0</td>\n",
       "      <td>0</td>\n",
       "      <td>0</td>\n",
       "      <td>0</td>\n",
       "      <td>1</td>\n",
       "      <td>0</td>\n",
       "      <td>0</td>\n",
       "      <td>0</td>\n",
       "      <td>0</td>\n",
       "      <td>0</td>\n",
       "      <td>0</td>\n",
       "      <td>0</td>\n",
       "    </tr>\n",
       "  </tbody>\n",
       "</table>\n",
       "<p>714 rows × 13 columns</p>\n",
       "</div>"
      ],
      "text/plain": [
       "     INCOME_0  INCOME_1  INCOME_2  INCOME_3  INCOME_4  INCOME_5  INCOME_6  \\\n",
       "0           0         0         0         0         0         1         0   \n",
       "1           0         0         0         0         0         1         0   \n",
       "2           0         0         0         0         0         1         0   \n",
       "3           0         0         0         0         0         1         0   \n",
       "4           0         0         0         0         0         1         0   \n",
       "..        ...       ...       ...       ...       ...       ...       ...   \n",
       "709         0         0         0         0         0         1         0   \n",
       "710         0         0         0         0         0         1         0   \n",
       "711         0         0         0         0         0         1         0   \n",
       "712         0         0         0         0         0         1         0   \n",
       "713         0         0         0         0         0         1         0   \n",
       "\n",
       "     INCOME_7  INCOME_8  INCOME_9  INCOME_10  INCOME_11  INCOME_12  \n",
       "0           0         0         0          0          0          0  \n",
       "1           0         0         0          0          0          0  \n",
       "2           0         0         0          0          0          0  \n",
       "3           0         0         0          0          0          0  \n",
       "4           0         0         0          0          0          0  \n",
       "..        ...       ...       ...        ...        ...        ...  \n",
       "709         0         0         0          0          0          0  \n",
       "710         0         0         0          0          0          0  \n",
       "711         0         0         0          0          0          0  \n",
       "712         0         0         0          0          0          0  \n",
       "713         0         0         0          0          0          0  \n",
       "\n",
       "[714 rows x 13 columns]"
      ]
     },
     "execution_count": 9,
     "metadata": {},
     "output_type": "execute_result"
    }
   ],
   "source": [
    "pd.get_dummies(data['INCOME'], prefix= \"INCOME\")*1"
   ]
  },
  {
   "cell_type": "markdown",
   "id": "9540a78e",
   "metadata": {},
   "source": [
    "We will now use the `describe()` function to get a statistical overview of the data. Here, we are selecting only the socio-economic variables from the dataframe."
   ]
  },
  {
   "cell_type": "code",
   "execution_count": 10,
   "id": "b73bb8a6-6f9d-4936-b685-02f7770f6eca",
   "metadata": {
    "ExecuteTime": {
     "end_time": "2024-12-17T16:48:35.065114Z",
     "start_time": "2024-12-17T16:48:34.994269Z"
    }
   },
   "outputs": [
    {
     "data": {
      "text/html": [
       "<div>\n",
       "<style scoped>\n",
       "    .dataframe tbody tr th:only-of-type {\n",
       "        vertical-align: middle;\n",
       "    }\n",
       "\n",
       "    .dataframe tbody tr th {\n",
       "        vertical-align: top;\n",
       "    }\n",
       "\n",
       "    .dataframe thead th {\n",
       "        text-align: right;\n",
       "    }\n",
       "</style>\n",
       "<table border=\"1\" class=\"dataframe\">\n",
       "  <thead>\n",
       "    <tr style=\"text-align: right;\">\n",
       "      <th></th>\n",
       "      <th>GENDER</th>\n",
       "      <th>AGE</th>\n",
       "      <th>INCOME</th>\n",
       "      <th>EMPLOYMENT</th>\n",
       "      <th>RACE</th>\n",
       "      <th>HISPANIC</th>\n",
       "      <th>AREA</th>\n",
       "      <th>HH_SIZE</th>\n",
       "      <th>VEHICLES</th>\n",
       "      <th>REP</th>\n",
       "      <th>DEM</th>\n",
       "      <th>CHILDREN</th>\n",
       "      <th>ELDERLY</th>\n",
       "      <th>DISABILITY</th>\n",
       "      <th>NONENGLISH</th>\n",
       "      <th>PETS</th>\n",
       "    </tr>\n",
       "  </thead>\n",
       "  <tbody>\n",
       "    <tr>\n",
       "      <th>count</th>\n",
       "      <td>714.000000</td>\n",
       "      <td>714.000000</td>\n",
       "      <td>714.000000</td>\n",
       "      <td>714.000000</td>\n",
       "      <td>714.000000</td>\n",
       "      <td>714.000000</td>\n",
       "      <td>714.000000</td>\n",
       "      <td>714.000000</td>\n",
       "      <td>714.000000</td>\n",
       "      <td>714.000000</td>\n",
       "      <td>714.000000</td>\n",
       "      <td>714.000000</td>\n",
       "      <td>714.000000</td>\n",
       "      <td>714.000000</td>\n",
       "      <td>714.000000</td>\n",
       "      <td>714.000000</td>\n",
       "    </tr>\n",
       "    <tr>\n",
       "      <th>mean</th>\n",
       "      <td>1.495798</td>\n",
       "      <td>2.260504</td>\n",
       "      <td>5.630252</td>\n",
       "      <td>1.798319</td>\n",
       "      <td>1.705882</td>\n",
       "      <td>0.050420</td>\n",
       "      <td>1.983193</td>\n",
       "      <td>2.831933</td>\n",
       "      <td>1.731092</td>\n",
       "      <td>0.142857</td>\n",
       "      <td>0.546218</td>\n",
       "      <td>0.218487</td>\n",
       "      <td>0.126050</td>\n",
       "      <td>0.134454</td>\n",
       "      <td>0.067227</td>\n",
       "      <td>0.470588</td>\n",
       "    </tr>\n",
       "    <tr>\n",
       "      <th>std</th>\n",
       "      <td>0.532910</td>\n",
       "      <td>1.357306</td>\n",
       "      <td>3.107785</td>\n",
       "      <td>1.186033</td>\n",
       "      <td>0.999464</td>\n",
       "      <td>0.218964</td>\n",
       "      <td>0.686269</td>\n",
       "      <td>1.292893</td>\n",
       "      <td>1.010721</td>\n",
       "      <td>0.350172</td>\n",
       "      <td>0.498208</td>\n",
       "      <td>0.413510</td>\n",
       "      <td>0.332139</td>\n",
       "      <td>0.341378</td>\n",
       "      <td>0.250590</td>\n",
       "      <td>0.499484</td>\n",
       "    </tr>\n",
       "    <tr>\n",
       "      <th>min</th>\n",
       "      <td>0.000000</td>\n",
       "      <td>1.000000</td>\n",
       "      <td>0.000000</td>\n",
       "      <td>1.000000</td>\n",
       "      <td>1.000000</td>\n",
       "      <td>0.000000</td>\n",
       "      <td>1.000000</td>\n",
       "      <td>1.000000</td>\n",
       "      <td>0.000000</td>\n",
       "      <td>0.000000</td>\n",
       "      <td>0.000000</td>\n",
       "      <td>0.000000</td>\n",
       "      <td>0.000000</td>\n",
       "      <td>0.000000</td>\n",
       "      <td>0.000000</td>\n",
       "      <td>0.000000</td>\n",
       "    </tr>\n",
       "    <tr>\n",
       "      <th>25%</th>\n",
       "      <td>1.000000</td>\n",
       "      <td>1.000000</td>\n",
       "      <td>3.000000</td>\n",
       "      <td>1.000000</td>\n",
       "      <td>1.000000</td>\n",
       "      <td>0.000000</td>\n",
       "      <td>2.000000</td>\n",
       "      <td>2.000000</td>\n",
       "      <td>1.000000</td>\n",
       "      <td>0.000000</td>\n",
       "      <td>0.000000</td>\n",
       "      <td>0.000000</td>\n",
       "      <td>0.000000</td>\n",
       "      <td>0.000000</td>\n",
       "      <td>0.000000</td>\n",
       "      <td>0.000000</td>\n",
       "    </tr>\n",
       "    <tr>\n",
       "      <th>50%</th>\n",
       "      <td>2.000000</td>\n",
       "      <td>2.000000</td>\n",
       "      <td>5.000000</td>\n",
       "      <td>1.000000</td>\n",
       "      <td>1.000000</td>\n",
       "      <td>0.000000</td>\n",
       "      <td>2.000000</td>\n",
       "      <td>3.000000</td>\n",
       "      <td>2.000000</td>\n",
       "      <td>0.000000</td>\n",
       "      <td>1.000000</td>\n",
       "      <td>0.000000</td>\n",
       "      <td>0.000000</td>\n",
       "      <td>0.000000</td>\n",
       "      <td>0.000000</td>\n",
       "      <td>0.000000</td>\n",
       "    </tr>\n",
       "    <tr>\n",
       "      <th>75%</th>\n",
       "      <td>2.000000</td>\n",
       "      <td>3.000000</td>\n",
       "      <td>8.000000</td>\n",
       "      <td>2.000000</td>\n",
       "      <td>3.000000</td>\n",
       "      <td>0.000000</td>\n",
       "      <td>2.000000</td>\n",
       "      <td>4.000000</td>\n",
       "      <td>2.000000</td>\n",
       "      <td>0.000000</td>\n",
       "      <td>1.000000</td>\n",
       "      <td>0.000000</td>\n",
       "      <td>0.000000</td>\n",
       "      <td>0.000000</td>\n",
       "      <td>0.000000</td>\n",
       "      <td>1.000000</td>\n",
       "    </tr>\n",
       "    <tr>\n",
       "      <th>max</th>\n",
       "      <td>2.000000</td>\n",
       "      <td>6.000000</td>\n",
       "      <td>12.000000</td>\n",
       "      <td>5.000000</td>\n",
       "      <td>4.000000</td>\n",
       "      <td>1.000000</td>\n",
       "      <td>3.000000</td>\n",
       "      <td>7.000000</td>\n",
       "      <td>4.000000</td>\n",
       "      <td>1.000000</td>\n",
       "      <td>1.000000</td>\n",
       "      <td>1.000000</td>\n",
       "      <td>1.000000</td>\n",
       "      <td>1.000000</td>\n",
       "      <td>1.000000</td>\n",
       "      <td>1.000000</td>\n",
       "    </tr>\n",
       "  </tbody>\n",
       "</table>\n",
       "</div>"
      ],
      "text/plain": [
       "           GENDER         AGE      INCOME  EMPLOYMENT        RACE    HISPANIC  \\\n",
       "count  714.000000  714.000000  714.000000  714.000000  714.000000  714.000000   \n",
       "mean     1.495798    2.260504    5.630252    1.798319    1.705882    0.050420   \n",
       "std      0.532910    1.357306    3.107785    1.186033    0.999464    0.218964   \n",
       "min      0.000000    1.000000    0.000000    1.000000    1.000000    0.000000   \n",
       "25%      1.000000    1.000000    3.000000    1.000000    1.000000    0.000000   \n",
       "50%      2.000000    2.000000    5.000000    1.000000    1.000000    0.000000   \n",
       "75%      2.000000    3.000000    8.000000    2.000000    3.000000    0.000000   \n",
       "max      2.000000    6.000000   12.000000    5.000000    4.000000    1.000000   \n",
       "\n",
       "             AREA     HH_SIZE    VEHICLES         REP         DEM    CHILDREN  \\\n",
       "count  714.000000  714.000000  714.000000  714.000000  714.000000  714.000000   \n",
       "mean     1.983193    2.831933    1.731092    0.142857    0.546218    0.218487   \n",
       "std      0.686269    1.292893    1.010721    0.350172    0.498208    0.413510   \n",
       "min      1.000000    1.000000    0.000000    0.000000    0.000000    0.000000   \n",
       "25%      2.000000    2.000000    1.000000    0.000000    0.000000    0.000000   \n",
       "50%      2.000000    3.000000    2.000000    0.000000    1.000000    0.000000   \n",
       "75%      2.000000    4.000000    2.000000    0.000000    1.000000    0.000000   \n",
       "max      3.000000    7.000000    4.000000    1.000000    1.000000    1.000000   \n",
       "\n",
       "          ELDERLY  DISABILITY  NONENGLISH        PETS  \n",
       "count  714.000000  714.000000  714.000000  714.000000  \n",
       "mean     0.126050    0.134454    0.067227    0.470588  \n",
       "std      0.332139    0.341378    0.250590    0.499484  \n",
       "min      0.000000    0.000000    0.000000    0.000000  \n",
       "25%      0.000000    0.000000    0.000000    0.000000  \n",
       "50%      0.000000    0.000000    0.000000    0.000000  \n",
       "75%      0.000000    0.000000    0.000000    1.000000  \n",
       "max      1.000000    1.000000    1.000000    1.000000  "
      ]
     },
     "execution_count": 10,
     "metadata": {},
     "output_type": "execute_result"
    }
   ],
   "source": [
    "\n",
    "data[['GENDER', 'AGE', 'INCOME', 'EMPLOYMENT', 'RACE', 'HISPANIC', 'AREA',\n",
    "       'HH_SIZE', 'VEHICLES', 'REP', 'DEM', 'CHILDREN', 'ELDERLY',\n",
    "       'DISABILITY', 'NONENGLISH', 'PETS']].describe()"
   ]
  },
  {
   "cell_type": "markdown",
   "id": "05c123ab",
   "metadata": {},
   "source": [
    "Let's plot some distributions. The main plotting library for Python is **matplotlib**. It's highly customizable and supports various types of plots, such as line graphs, bar charts, histograms, and scatter plots. \n",
    "\n",
    "Let's plot the distribution of **number of vehicles per household**. We start by extracting the frequency of each number of vehicles by using the function `value_counts()`, and plot it in a bar graph. "
   ]
  },
  {
   "cell_type": "code",
   "execution_count": 11,
   "id": "3ccb9096",
   "metadata": {
    "ExecuteTime": {
     "end_time": "2024-12-17T16:48:35.812686Z",
     "start_time": "2024-12-17T16:48:35.806338Z"
    }
   },
   "outputs": [
    {
     "data": {
      "text/plain": [
       "VEHICLES\n",
       "0     84\n",
       "1    204\n",
       "2    276\n",
       "3    120\n",
       "4     30\n",
       "Name: count, dtype: int64"
      ]
     },
     "execution_count": 11,
     "metadata": {},
     "output_type": "execute_result"
    }
   ],
   "source": [
    "veh_counts = data['VEHICLES'].value_counts().sort_index()\n",
    "veh_counts"
   ]
  },
  {
   "cell_type": "code",
   "execution_count": 12,
   "id": "0eb7fe01",
   "metadata": {
    "ExecuteTime": {
     "end_time": "2024-12-17T16:48:36.430894Z",
     "start_time": "2024-12-17T16:48:36.270761Z"
    }
   },
   "outputs": [
    {
     "data": {
      "image/png": "[encoded data removed]",
      "text/plain": [
       "<Figure size 640x480 with 1 Axes>"
      ]
     },
     "metadata": {},
     "output_type": "display_data"
    }
   ],
   "source": [
    "plt.bar(range(5), height = veh_counts)\n",
    "\n",
    "plt.title(\"HH vehicle counts\")\n",
    "plt.xlabel(\"Number of vehicles\")\n",
    "plt.ylabel(\"Counts\")\n",
    "\n",
    "plt.show()"
   ]
  },
  {
   "cell_type": "markdown",
   "id": "2276dd42",
   "metadata": {},
   "source": [
    "You can also very quickly produce the same plot directly from the dataframe, calling the ``plot()`` function."
   ]
  },
  {
   "cell_type": "code",
   "execution_count": 13,
   "id": "3d780650-5eb3-4ac5-8284-b269a903230e",
   "metadata": {
    "ExecuteTime": {
     "end_time": "2024-12-17T16:48:37.733957Z",
     "start_time": "2024-12-17T16:48:37.450857Z"
    }
   },
   "outputs": [
    {
     "data": {
      "image/png": "[encoded data removed]",
      "text/plain": [
       "<Figure size 640x480 with 1 Axes>"
      ]
     },
     "metadata": {},
     "output_type": "display_data"
    }
   ],
   "source": [
    "ax = data['VEHICLES'].value_counts().sort_index().plot(kind='bar',title=\"HH vehicle counts\")\n",
    "ax.set_xlabel(\"Number of vehicles\")\n",
    "ax.set_ylabel(\"Counts\")\n",
    "\n",
    "plt.show()"
   ]
  },
  {
   "cell_type": "markdown",
   "id": "a12be332",
   "metadata": {},
   "source": [
    "You can plot multiple figures at once with the `subplots()` function. Here, we plot the distribution of **INCOME**, **EMPLOYMENT**, **RACE** and **RESIDENTIAL AREA**. "
   ]
  },
  {
   "cell_type": "code",
   "execution_count": 14,
   "id": "6f3d5dac",
   "metadata": {
    "ExecuteTime": {
     "end_time": "2024-12-17T16:48:39.561673Z",
     "start_time": "2024-12-17T16:48:39.130544Z"
    }
   },
   "outputs": [
    {
     "data": {
      "image/png": "[encoded data removed]",
      "text/plain": [
       "<Figure size 1200x800 with 4 Axes>"
      ]
     },
     "metadata": {},
     "output_type": "display_data"
    }
   ],
   "source": [
    "income_labels = {0: \"NA\", \n",
    "                 1: \"< 10\", \n",
    "                 2: \"10-20\",\n",
    "                 3:\"20-30\", \n",
    "                 4: \"30-40\", \n",
    "                 5:\"40-50\",\n",
    "                 6: \"50-60\",\n",
    "                7: \"60-80\",\n",
    "                8: \"80-100\",\n",
    "                9:\"100-120\",\n",
    "                10: \"120-150\",\n",
    "                11: \"150-200\", \n",
    "                12: \"> 200\"}\n",
    "\n",
    "employment_labels = {1: \"Employed\", \n",
    "                     2: \"Unemployed\",\n",
    "                     3: \"Retired\",\n",
    "                     4: \"Student\",\n",
    "                     5: \"Disabled\"}\n",
    "\n",
    "race_labels = {1:\"White\", \n",
    "               2: \"Black or African American\",\n",
    "               3: \"Asian\",\n",
    "               4: \"Other\"}\n",
    "\n",
    "area_labels = {1: \"Urban\", 2: \"Suburban\", 3: \"Rural\"}\n",
    "\n",
    "#Create suplots with 2 rows and 2 columns\n",
    "fig, axes = plt.subplots(2,2, figsize = [12,8])\n",
    "\n",
    "#Count values for each income level, and plot a bar that will be passed to the first subplot position (0,0)\n",
    "data[\"INCOME\"].value_counts().sort_index().plot(kind = \"bar\", title = \"Income levels\", \n",
    "                                                      color = 'C0', ax = axes[0,0], xlabel = '')\n",
    "#Add the category labels to the x-axis\n",
    "axes[0,0].set_xticklabels(income_labels.values(), rotation = 30, fontsize = 8)\n",
    "\n",
    "#Repeat :) (this could be done more efficiently with a for-loop)\n",
    "data[\"EMPLOYMENT\"].value_counts().sort_index().plot(kind = \"bar\", title = \"Employment status\", \n",
    "                                                    color = 'C1', ax = axes[0,1],  xlabel = '')\n",
    "axes[0,1].set_xticklabels(employment_labels.values(), rotation = 0, fontsize = 8)\n",
    "\n",
    "data[\"RACE\"].value_counts().sort_index().plot(kind = \"bar\", title = \"Race\", color = 'C2', ax = axes[1,0],  xlabel = '')\n",
    "axes[1,0].set_xticklabels(race_labels.values(), rotation = 0, fontsize = 8)\n",
    "\n",
    "data[\"AREA\"].value_counts().sort_index().plot(kind = \"bar\", title = \"Area\", color = 'C3', ax = axes[1,1],  xlabel = '')\n",
    "axes[1,1].set_xticklabels(area_labels.values(), rotation = 0, fontsize = 8)\n",
    "\n",
    "plt.show()"
   ]
  },
  {
   "cell_type": "markdown",
   "id": "c8ecfe36",
   "metadata": {},
   "source": [
    "## Initial Biogeme model\n",
    "\n",
    "Now that we have a better idea of what the data looks like, let's set up our first model. To illustrate how to use Biogeme to define and estimate your models, we will start with a very simple estimation of a **binary choice model**, where there are only 2 alternatives **EVACUATE** (ALT = 1) or **STAY** (ALT = 2). \n",
    "\n",
    "We will initially ignore the socio-economic variables, and focus on the attributes of the alternatives. "
   ]
  },
  {
   "cell_type": "markdown",
   "id": "c215252b",
   "metadata": {},
   "source": [
    "We will create a **Biogeme database** by importing our Pandas dataframe. We will call this database *Evacuation*. Biogeme requires data to be in **wide** format, meaning that we should only have one row per observation/individual. Because our data has multiple observations for the same individual, we declare it as a panel dataset, where the identifying column is **INDIV_ID**."
   ]
  },
  {
   "cell_type": "code",
   "execution_count": 15,
   "id": "9d16f124-4eb8-44da-a300-b3cdc63ff3ae",
   "metadata": {
    "ExecuteTime": {
     "end_time": "2024-12-17T16:49:11.015640Z",
     "start_time": "2024-12-17T16:49:10.932020Z"
    }
   },
   "outputs": [],
   "source": [
    "biog_database = db.Database('evacuation',data)\n",
    "biog_database.panel('INDIV_ID')"
   ]
  },
  {
   "cell_type": "markdown",
   "id": "05931979",
   "metadata": {},
   "source": [
    "### Variables \n",
    "We can now start defining our model. We need to declare 3 elements: variables, parameters and utility functions. \n",
    "\n",
    "You can declare **variables** by creating a Biogeme `Variable`object, that takes as argument the column label corresponding to the variable. We illustrate this by creating the cost variable and the choice. \n",
    "\n",
    "To make the model more readable, we advise you to give your variables the same names as the database column *if you don't perform any transformation* on them. \n",
    "\n",
    "If you want to create a new variable (non-existing in your database), you can use the ``define_variable()``, which takes as argument the name of the variable and a *Biogeme expression* to define it. We will for example create a new variable **COST_SCALED**, which is obtained by dividing the cost by 100. \n"
   ]
  },
  {
   "cell_type": "code",
   "execution_count": 16,
   "id": "16eb4558-5598-4148-9361-92c80beb6a71",
   "metadata": {
    "ExecuteTime": {
     "end_time": "2024-12-17T16:50:23.401719Z",
     "start_time": "2024-12-17T16:50:23.374706Z"
    }
   },
   "outputs": [],
   "source": [
    "#Variables \n",
    "COST = Variable('COST')\n",
    "ALT = Variable('ALT')\n",
    "\n",
    "#New variable\n",
    "COST_SCALED = biog_database.define_variable('COST_SCALED', COST/100)"
   ]
  },
  {
   "cell_type": "markdown",
   "id": "82db9cbd-46f2-427c-9e55-5086e472c922",
   "metadata": {},
   "source": [
    "### Parameters\n",
    "Secondly, we will create the parameters to be estimated. This is done by declaring a new **Beta** object, which takes as argument the name of the parameter, the initial value (most of the time, this value can be left at 0, except in some specific cases that you will encounter later in the course), the lower and upper bound, and whether the parameter should be estimated (0) or fixed (1). If it is fixed, the initial value that you've defined will bed used.\n",
    "\n",
    "Here, we will only consider the **COST** parameter, and the **alternative-specific constants (ASC)**. We decide to set the **STAY** alternative as the reference, meaning that its corresponding ASC is 0."
   ]
  },
  {
   "cell_type": "code",
   "execution_count": 17,
   "id": "c6736552-634d-4c2a-95ef-65bb9b78e9a8",
   "metadata": {},
   "outputs": [],
   "source": [
    "#Parameters to be estimated\n",
    "\n",
    "B_COST = Beta('B_COST', 0, None, None, 0)\n",
    "\n",
    "#Stay is the reference alternative, so the last argument is 1\n",
    "ASC_STAY = Beta('ASC_STAY', 0, None, None, 1)\n",
    "ASC_GO = Beta('ASC_GO', 0, None, None, 0)\n"
   ]
  },
  {
   "cell_type": "markdown",
   "id": "d182eceb-bcff-4180-a007-a9504896d9ef",
   "metadata": {},
   "source": [
    "### Utility functions\n",
    "\n",
    "Now that we have defined our parameters, let's set up our **utility functions**. As a reminder, for each individual $n$, the utility function of alternative $i$ is expressed as:\n",
    "\n",
    "$U_{i,n} = V_{i,n} + \\varepsilon_{i,n}$\n",
    "\n",
    "where $V_{i,n}$ is the deterministic utility and $\\varepsilon_{i,n}$ is an error term. In Biogeme, we only define $V_{i,n}$, as the error terms are automatically dealt with by the software when we are estimating simple models (in the case of a binary logit model, we have I.I.D Extreme Value distributed errors). \n",
    "\n",
    "In our problem, the utility functions are defined as follows: \n",
    "\n",
    "- $V_\\text{stay} = \\text{ASC}_\\text{stay}$\n",
    "- $V_\\text{go} = \\text{ASC}_\\text{go} + \\beta_\\text{COST}*\\text{COST}$\n",
    "\n",
    "In Biogeme, you can directly define the utility vectors as a function of the Variable and Beta objects. \n",
    "\n",
    "*NB: Recall that we have a panel dataset, meaning that the I.I.D. assumption for the error terms is violated here. This correlation can be explicitly dealt with by estimating random ASCs. To simplify this lab, we ignore this correlation.*"
   ]
  },
  {
   "cell_type": "code",
   "execution_count": 18,
   "id": "d5aa3f3e-bd72-4be5-b3c5-4dd81ce56b67",
   "metadata": {},
   "outputs": [],
   "source": [
    "#Definition of utility function vectors \n",
    "V_STAY = ASC_STAY \n",
    "V_GO = ASC_GO + B_COST*COST"
   ]
  },
  {
   "cell_type": "markdown",
   "id": "8add7189-887e-43fc-ad25-9d81c253424e",
   "metadata": {},
   "source": [
    "We now need to associate these utility functions with the alternative numbers as defined in our data (**ALT** column). As a reminder, **1** is for the **Evacuate** alternative, and **2** for the **Stay** option. We also need to define **availability conditions** for each alternatives. If the alternative is available to all individuals in your dataset, you can just set the availability to **1**, as we've done here. There are cases where alternatives may not always be available. You can imagine for example a mode choice experiment where individuals without a driving license are not allowed to choose the car as an option. "
   ]
  },
  {
   "cell_type": "code",
   "execution_count": 19,
   "id": "865165d7-a5e2-4ca1-afc4-3094b8deddfe",
   "metadata": {},
   "outputs": [],
   "source": [
    "#Associate utility functions with numbering of alternatives\n",
    "V = {1: V_GO, 2: V_STAY} \n",
    "\n",
    "#Associate the availability conditions with the alternatives\n",
    "av = {1: 1, 2: 1}"
   ]
  },
  {
   "cell_type": "markdown",
   "id": "beda6b8d-3d6b-42dd-a37e-896d02863f64",
   "metadata": {},
   "source": [
    "### Model estimation \n",
    "\n",
    "We can now estimate our model. We start by creating the **logit** choice probabilities, from the models module of Biogeme. As a reminder, the choice probability of a logit model for alternative $i$ is: \n",
    "\n",
    "$P_{in} = \\frac{e^{V_{in}}}{\\sum_j e^{V_{jn}}}$\n",
    "\n",
    "and the likelihood is defined as the product of probabilities over each alternative and individual:\n",
    "\n",
    "$L = \\prod_i \\prod_n P_{in}$\n",
    "\n",
    "The model takes as arguments the dictionary with the utility functions, the availability conditions and the individual choices.  To avoid numerical issues, we usually implement the log of the probilities, and the **log likelihood**\n",
    "\n",
    "$\\log{L} = \\sum_i \\sum_n P_{in}$\n",
    "\n",
    "*NB: Because we're working with panel data, we need to add an intermediate line to calculate the likelihood for each individual, to include the contribution of each observation*"
   ]
  },
  {
   "cell_type": "code",
   "execution_count": 20,
   "id": "2f221da9-bc26-4a61-814c-952a909c6646",
   "metadata": {},
   "outputs": [],
   "source": [
    "obsprob =models.logit(V, av, ALT) \n",
    "\n",
    "#The likelihood of all observations for one individual (the trajectory) is the product of the likelihood of each observation.\n",
    "condprobIndiv = PanelLikelihoodTrajectory(obsprob)\n",
    "\n",
    "#take the log of the probability\n",
    "logprob = log(condprobIndiv)"
   ]
  },
  {
   "cell_type": "markdown",
   "id": "b1c81c3c-e911-4088-ab23-59713037df61",
   "metadata": {},
   "source": [
    "Given the data, we estimate the maximum likelihood estimators of the parameters."
   ]
  },
  {
   "cell_type": "code",
   "execution_count": 21,
   "id": "6ef06132-16e2-4c7c-a8f1-5c5a1e005a73",
   "metadata": {},
   "outputs": [],
   "source": [
    "the_biogeme = bio.BIOGEME(biog_database, logprob)\n",
    "the_biogeme.modelName = 'evacuation'\n",
    "\n",
    "# Estimate the parameters.\n",
    "results = the_biogeme.estimate()"
   ]
  },
  {
   "cell_type": "markdown",
   "id": "778f0deb-165e-4b49-a380-f8a7d83b5b92",
   "metadata": {},
   "source": [
    "### Results\n",
    "\n",
    "Running `estimate()`returns a Biogeme **results** object, from which you can extract summary statitistics and metrics (final log likelihood, AIC, BIC, $\\rho^2$...), the estimated parameters, etc. The model will also output 2 files: \n",
    "- A *html* file, with the complete estimation output.\n",
    "- A *pickle* file, which contains the model as a python object. The pickle file will be very useful when we want to use calibrated models (for simulation for example)."
   ]
  },
  {
   "cell_type": "code",
   "execution_count": 22,
   "id": "bb0248ed-5bad-4a07-b0dd-9a508f451479",
   "metadata": {},
   "outputs": [
    {
     "name": "stdout",
     "output_type": "stream",
     "text": [
      "Results for model evacuation\n",
      "Nbr of parameters:\t\t2\n",
      "Sample size:\t\t\t119\n",
      "Observations:\t\t\t714\n",
      "Excluded data:\t\t\t0\n",
      "Final log likelihood:\t\t-474.1464\n",
      "Akaike Information Criterion:\t952.2929\n",
      "Bayesian Information Criterion:\t957.8511\n",
      "\n"
     ]
    }
   ],
   "source": [
    "\n",
    "print(results.short_summary())\n"
   ]
  },
  {
   "cell_type": "code",
   "execution_count": 23,
   "id": "7432b2b9-5059-4567-ac1c-58dbb709d042",
   "metadata": {},
   "outputs": [
    {
     "data": {
      "text/html": [
       "<div>\n",
       "<style scoped>\n",
       "    .dataframe tbody tr th:only-of-type {\n",
       "        vertical-align: middle;\n",
       "    }\n",
       "\n",
       "    .dataframe tbody tr th {\n",
       "        vertical-align: top;\n",
       "    }\n",
       "\n",
       "    .dataframe thead th {\n",
       "        text-align: right;\n",
       "    }\n",
       "</style>\n",
       "<table border=\"1\" class=\"dataframe\">\n",
       "  <thead>\n",
       "    <tr style=\"text-align: right;\">\n",
       "      <th></th>\n",
       "      <th>Value</th>\n",
       "      <th>Rob. Std err</th>\n",
       "      <th>Rob. t-test</th>\n",
       "      <th>Rob. p-value</th>\n",
       "    </tr>\n",
       "  </thead>\n",
       "  <tbody>\n",
       "    <tr>\n",
       "      <th>ASC_GO</th>\n",
       "      <td>-0.727085</td>\n",
       "      <td>0.141324</td>\n",
       "      <td>-5.144820</td>\n",
       "      <td>2.677773e-07</td>\n",
       "    </tr>\n",
       "    <tr>\n",
       "      <th>B_COST</th>\n",
       "      <td>0.016344</td>\n",
       "      <td>0.004724</td>\n",
       "      <td>3.460084</td>\n",
       "      <td>5.400068e-04</td>\n",
       "    </tr>\n",
       "  </tbody>\n",
       "</table>\n",
       "</div>"
      ],
      "text/plain": [
       "           Value  Rob. Std err  Rob. t-test  Rob. p-value\n",
       "ASC_GO -0.727085      0.141324    -5.144820  2.677773e-07\n",
       "B_COST  0.016344      0.004724     3.460084  5.400068e-04"
      ]
     },
     "execution_count": 23,
     "metadata": {},
     "output_type": "execute_result"
    }
   ],
   "source": [
    "results.get_estimated_parameters()"
   ]
  },
  {
   "cell_type": "markdown",
   "id": "882bdc36-a404-4f5d-943e-485e5858f753",
   "metadata": {},
   "source": [
    "How do we make sure that our model is \"good\"? Fit statistics give you a good indication of this, but studying the parameter estimates that you obtain is also important. A few questions that you can ask yourself:\n",
    "- Are the parameters interpretable, do they make sense?\n",
    "- Do they match my assumptions on behavior?\n",
    "- Are they consistent with the observations?\n",
    "  \n",
    "In this case, we can see that both parameters are statistically significant at a 95% level of significance ($|\\text{Rob. t-test}| > 1.96 $ or $|\\text{p-value}| < .05 $ ). Note that the $t$ statistic provided by Biogeme is testing the parameter against 0.\n",
    "\n",
    "The ASC for the *go* alternative is negative, meaning that, all else being equal, people have a preference for staying instead of evacuating. The cost parameter is positive, indicating an increasing utility for evacuating when the cost increases. This result is somewhat counterintuitive. It could indicate a higher sense of urgency with a higher cost. But it could also (more likely) mean that there are some significant influences that we are not accounting for with our model. \n"
   ]
  },
  {
   "cell_type": "markdown",
   "id": "eb111ad9-cc3c-4deb-aa4b-8a3785ffcb4b",
   "metadata": {},
   "source": [
    "## Second model: Impact of travel time attribute\n",
    "\n",
    "Our model is too simple to properly capture all the influences on the choice of staying or evacuating. We will start by testing how including a second attribute (**travel time**) into the utility functions affects our estimations. \n"
   ]
  },
  {
   "cell_type": "code",
   "execution_count": 24,
   "id": "2204387b-2fdb-487c-849b-eb8976c5c6ba",
   "metadata": {},
   "outputs": [
    {
     "name": "stdout",
     "output_type": "stream",
     "text": [
      "Results for model evacuation_time\n",
      "Nbr of parameters:\t\t3\n",
      "Sample size:\t\t\t119\n",
      "Observations:\t\t\t714\n",
      "Excluded data:\t\t\t0\n",
      "Final log likelihood:\t\t-468.6275\n",
      "Akaike Information Criterion:\t943.255\n",
      "Bayesian Information Criterion:\t951.5924\n",
      "\n"
     ]
    }
   ],
   "source": [
    "#Extract travel time variable\n",
    "TRAVEL_TIME = Variable('TRAVELTIME')\n",
    "\n",
    "#Define travel time parameter\n",
    "B_TIME = Beta('B_TIME', 0, None, None, 0)\n",
    "\n",
    "#Update utility functions\n",
    "V_STAY = ASC_STAY \n",
    "V_GO = ASC_GO + B_COST*COST + B_TIME * TRAVEL_TIME\n",
    "\n",
    "V = {1: V_GO, 2: V_STAY} \n",
    "av = {1: 1, 2: 1}\n",
    "\n",
    "#Estimate model\n",
    "obsprob =models.logit(V, av, ALT) \n",
    "condprobIndiv = PanelLikelihoodTrajectory(obsprob)\n",
    "logprob = log(condprobIndiv)\n",
    "\n",
    "the_biogeme = bio.BIOGEME(biog_database, logprob)\n",
    "the_biogeme.modelName = 'evacuation_time'\n",
    "\n",
    "results = the_biogeme.estimate()\n",
    "\n",
    "#Print results\n",
    "print(results.short_summary())\n"
   ]
  },
  {
   "cell_type": "code",
   "execution_count": 25,
   "id": "c526f27b-498a-44e7-a284-3bd67f17f57e",
   "metadata": {},
   "outputs": [
    {
     "data": {
      "text/html": [
       "<div>\n",
       "<style scoped>\n",
       "    .dataframe tbody tr th:only-of-type {\n",
       "        vertical-align: middle;\n",
       "    }\n",
       "\n",
       "    .dataframe tbody tr th {\n",
       "        vertical-align: top;\n",
       "    }\n",
       "\n",
       "    .dataframe thead th {\n",
       "        text-align: right;\n",
       "    }\n",
       "</style>\n",
       "<table border=\"1\" class=\"dataframe\">\n",
       "  <thead>\n",
       "    <tr style=\"text-align: right;\">\n",
       "      <th></th>\n",
       "      <th>Value</th>\n",
       "      <th>Rob. Std err</th>\n",
       "      <th>Rob. t-test</th>\n",
       "      <th>Rob. p-value</th>\n",
       "    </tr>\n",
       "  </thead>\n",
       "  <tbody>\n",
       "    <tr>\n",
       "      <th>ASC_GO</th>\n",
       "      <td>0.035587</td>\n",
       "      <td>0.255702</td>\n",
       "      <td>0.139175</td>\n",
       "      <td>0.889312</td>\n",
       "    </tr>\n",
       "    <tr>\n",
       "      <th>B_COST</th>\n",
       "      <td>0.014622</td>\n",
       "      <td>0.005165</td>\n",
       "      <td>2.831095</td>\n",
       "      <td>0.004639</td>\n",
       "    </tr>\n",
       "    <tr>\n",
       "      <th>B_TIME</th>\n",
       "      <td>-0.017943</td>\n",
       "      <td>0.004606</td>\n",
       "      <td>-3.895793</td>\n",
       "      <td>0.000098</td>\n",
       "    </tr>\n",
       "  </tbody>\n",
       "</table>\n",
       "</div>"
      ],
      "text/plain": [
       "           Value  Rob. Std err  Rob. t-test  Rob. p-value\n",
       "ASC_GO  0.035587      0.255702     0.139175      0.889312\n",
       "B_COST  0.014622      0.005165     2.831095      0.004639\n",
       "B_TIME -0.017943      0.004606    -3.895793      0.000098"
      ]
     },
     "execution_count": 25,
     "metadata": {},
     "output_type": "execute_result"
    }
   ],
   "source": [
    "results.get_estimated_parameters()"
   ]
  },
  {
   "cell_type": "markdown",
   "id": "0c9f5ea2-0d94-4d3b-85f1-a9cf0b5a2a6f",
   "metadata": {},
   "source": [
    "### Testing significance and comparing models \n",
    "\n",
    "It's important to compare our models, by testing if our assumptions for the new specification make sense (is the parameter statistically significant?), and if it improves the fit of the model as compared to leaving it out. As a rule of thumb, if you have two models with comparable fits, you want to choose the simpler model (usually, the one with fewer parameters). \n",
    "\n",
    "When evaluating our second model, we are testing the following null ($H_0$) and alternative ($H_1$) hypotheses at a 95% level of significance: \n",
    "\n",
    "- $H_0 : \\beta_\\text{time} = 0$\n",
    "- $H_1 : \\beta_\\text{time} \\neq 0$\n",
    "\n",
    "We can focus on the robust T statistic to perform a *t-test* against 0. Here, we see that $\\text{|Rob. t| > 1.96}$, meaning that we can reject the null hypothesis at the 95% level of significance. \n",
    "\n",
    "When the only difference between two models is a parameter, performing a t-test of significance is usually sufficient to compare the models. In other cases, another useful test is to compare the tradeoff between the addition of this parameter and the improvement of the model fit by performing a **log-likelihood ratio-test**.\n",
    "\n",
    "$\\text{LR} = - 2*(\\text{LL}_\\text{restricted} - \\text{LL}_\\text{unrestricted})$\n",
    "\n",
    "The LR statistic is compared to a [critical value from the $\\chi^2$ distribution](https://math.arizona.edu/~jwatkins/chi-square-table.pdf). **Careful:** The LR test can only be performed to compare **nested** models, meaning that one model must be a linear restriction of the other. In our case, the original model ($M_1$) is a linear restriction of our second model ($M_2$), because you can go from one to the other only by adding or subtracting the travel time component. "
   ]
  },
  {
   "cell_type": "code",
   "execution_count": 26,
   "id": "b1630144-d408-4955-9da0-83e81e9e83d9",
   "metadata": {},
   "outputs": [
    {
     "data": {
      "text/plain": [
       "11.037800000000061"
      ]
     },
     "execution_count": 26,
     "metadata": {},
     "output_type": "execute_result"
    }
   ],
   "source": [
    "LR = -2*(-474.1464 + 468.6275)\n",
    "LR"
   ]
  },
  {
   "cell_type": "markdown",
   "id": "beb252c2-9861-402a-86b7-e2c6abcfaecf",
   "metadata": {},
   "source": [
    "Because we have 1 degree of freedom (number of restrictions) between $M1$ and $M2$, at the 95% level of significance the $\\chi^2$ critical value is 3.841. \n",
    "We have $11.037 > 3.841$, confirming that we can reject $H_O$."
   ]
  },
  {
   "cell_type": "markdown",
   "id": "965aec0a-9830-4bd8-aa40-08643e0e54a3",
   "metadata": {},
   "source": [
    "## Third model: Impact of car ownership level\n",
    "\n",
    "In this model, we assume that the number of cars owned will affect the choice, by reducing the probability of staying. This model corresponds to the following hypotheses: \n",
    "\n",
    "- $H_0 : \\beta_\\text{vehicles} = 0$\n",
    "- $H_1 : \\beta_\\text{vehicles} \\neq 0$"
   ]
  },
  {
   "cell_type": "code",
   "execution_count": 27,
   "id": "90d96289-8ec3-4a08-b73b-03a4a11be42a",
   "metadata": {},
   "outputs": [
    {
     "name": "stdout",
     "output_type": "stream",
     "text": [
      "Results for model evacuation_vehicles\n",
      "Nbr of parameters:\t\t4\n",
      "Sample size:\t\t\t119\n",
      "Observations:\t\t\t714\n",
      "Excluded data:\t\t\t0\n",
      "Final log likelihood:\t\t-468.5747\n",
      "Akaike Information Criterion:\t945.1493\n",
      "Bayesian Information Criterion:\t956.2658\n",
      "\n"
     ]
    }
   ],
   "source": [
    "#Extract travel time variable\n",
    "VEHICLES = Variable('VEHICLES')\n",
    "\n",
    "#Define travel time parameter\n",
    "B_VEHICLES = Beta('B_VEHICLES', 0, None, None, 0)\n",
    "\n",
    "#Update utility functions\n",
    "V_STAY = ASC_STAY + B_VEHICLES*VEHICLES \n",
    "V_GO = ASC_GO + B_COST*COST + B_TIME * TRAVEL_TIME\n",
    "\n",
    "V = {1: V_GO, 2: V_STAY} \n",
    "av = {1: 1, 2: 1}\n",
    "\n",
    "#Estimate model\n",
    "obsprob =models.logit(V, av, ALT) \n",
    "condprobIndiv = PanelLikelihoodTrajectory(obsprob)\n",
    "logprob = log(condprobIndiv)\n",
    "\n",
    "the_biogeme = bio.BIOGEME(biog_database, logprob)\n",
    "the_biogeme.modelName = 'evacuation_vehicles'\n",
    "\n",
    "results = the_biogeme.estimate()\n",
    "\n",
    "#Print results\n",
    "print(results.short_summary())\n"
   ]
  },
  {
   "cell_type": "code",
   "execution_count": 28,
   "id": "bbc59b84-d65e-4b08-996f-870abb50dd6f",
   "metadata": {},
   "outputs": [
    {
     "data": {
      "text/html": [
       "<div>\n",
       "<style scoped>\n",
       "    .dataframe tbody tr th:only-of-type {\n",
       "        vertical-align: middle;\n",
       "    }\n",
       "\n",
       "    .dataframe tbody tr th {\n",
       "        vertical-align: top;\n",
       "    }\n",
       "\n",
       "    .dataframe thead th {\n",
       "        text-align: right;\n",
       "    }\n",
       "</style>\n",
       "<table border=\"1\" class=\"dataframe\">\n",
       "  <thead>\n",
       "    <tr style=\"text-align: right;\">\n",
       "      <th></th>\n",
       "      <th>Value</th>\n",
       "      <th>Rob. Std err</th>\n",
       "      <th>Rob. t-test</th>\n",
       "      <th>Rob. p-value</th>\n",
       "    </tr>\n",
       "  </thead>\n",
       "  <tbody>\n",
       "    <tr>\n",
       "      <th>ASC_GO</th>\n",
       "      <td>0.080438</td>\n",
       "      <td>0.306110</td>\n",
       "      <td>0.262774</td>\n",
       "      <td>0.792725</td>\n",
       "    </tr>\n",
       "    <tr>\n",
       "      <th>B_COST</th>\n",
       "      <td>0.014536</td>\n",
       "      <td>0.005173</td>\n",
       "      <td>2.809961</td>\n",
       "      <td>0.004955</td>\n",
       "    </tr>\n",
       "    <tr>\n",
       "      <th>B_TIME</th>\n",
       "      <td>-0.017938</td>\n",
       "      <td>0.004604</td>\n",
       "      <td>-3.896215</td>\n",
       "      <td>0.000098</td>\n",
       "    </tr>\n",
       "    <tr>\n",
       "      <th>B_VEHICLES</th>\n",
       "      <td>0.025114</td>\n",
       "      <td>0.090669</td>\n",
       "      <td>0.276985</td>\n",
       "      <td>0.781791</td>\n",
       "    </tr>\n",
       "  </tbody>\n",
       "</table>\n",
       "</div>"
      ],
      "text/plain": [
       "               Value  Rob. Std err  Rob. t-test  Rob. p-value\n",
       "ASC_GO      0.080438      0.306110     0.262774      0.792725\n",
       "B_COST      0.014536      0.005173     2.809961      0.004955\n",
       "B_TIME     -0.017938      0.004604    -3.896215      0.000098\n",
       "B_VEHICLES  0.025114      0.090669     0.276985      0.781791"
      ]
     },
     "execution_count": 28,
     "metadata": {},
     "output_type": "execute_result"
    }
   ],
   "source": [
    "results.get_estimated_parameters()"
   ]
  },
  {
   "cell_type": "markdown",
   "id": "177d25ef-68f2-4362-9ff2-283bffbfd5b0",
   "metadata": {},
   "source": [
    "We can make several observations: \n",
    "- The likelihood has barely improved between this model and the previous one.\n",
    "- The paramerers for the number of vehicles is not statistically significant ($|t| < 1.96$ and $p > .05$)."
   ]
  },
  {
   "cell_type": "code",
   "execution_count": 29,
   "id": "26eaa7e5-1670-4990-9eb7-e2c2360bb399",
   "metadata": {},
   "outputs": [
    {
     "data": {
      "text/plain": [
       "0.10559999999998126"
      ]
     },
     "execution_count": 29,
     "metadata": {},
     "output_type": "execute_result"
    }
   ],
   "source": [
    "LR = -2*(-468.6275 +468.5747)\n",
    "LR"
   ]
  },
  {
   "cell_type": "markdown",
   "id": "64235a75-ddb6-4272-b322-222fb0f5eb39",
   "metadata": {},
   "source": [
    "We have $0.106 < 3.841$, meaning that the LR test also failed. This indicates that we would discard this specification and keep the simpler one with only the cost and travel time."
   ]
  },
  {
   "cell_type": "markdown",
   "id": "8e93c222-4295-4bf9-b589-f4bbc2bbfe0a",
   "metadata": {},
   "source": [
    "# Independent work \n",
    "\n",
    "We're arriving at the end of this demonstration. It's now your turn to explore the modeling possibilities to explain this choice problem: \n",
    "\n",
    "1. Explore the data: can you think of a few ideas (hypothesis) you want to test?\n",
    "2. Build models in Biogeme: modify the provided code to define and test one idea about attributes, and one about socio-demographic\n",
    "3. Interpret the results, and perform appropriate tests to decide which model to keep."
   ]
  },
  {
   "cell_type": "markdown",
   "id": "4a15ded0-3dd2-4e5a-a7fd-6e24a77ee9da",
   "metadata": {},
   "source": [
    "# Resources\n",
    "\n",
    "- You can find very useful resources for Biogeme directly [on the website](https://biogeme.epfl.ch), including the full documentation, templates for a variety of models, datasets, and a [techical report](https://transp-or.epfl.ch/documents/technicalReports/Bier23.pdf) to help you getting started. \n",
    "- Further reading on discrete choice models: [Train, K. E. (2009). Discrete choice methods with simulation. Cambridge university press. ](https://eml.berkeley.edu/books/train1201.pdf)\n",
    "- Cheat sheets: [Python](https://www.pythoncheatsheet.org/cheatsheet/basics), [Pandas](https://media.datacamp.com/legacy/image/upload/v1676302204/Marketing/Blog/Pandas_Cheat_Sheet.pdf), [Matplotlib](https://media.datacamp.com/legacy/image/upload/v1676360378/Marketing/Blog/Matplotlib_Cheat_Sheet.pdf), [Jupyter notebook](https://media.datacamp.com/legacy/image/upload/v1676302533/Marketing/Blog/Jupyterlab_Cheat_Sheet.pdf)"
   ]
  },
  {
   "cell_type": "code",
   "execution_count": null,
   "id": "e3b38d51-e91f-4a95-b295-079060bad29b",
   "metadata": {},
   "outputs": [],
   "source": []
  }
 ],
 "metadata": {
  "kernelspec": {
   "display_name": "Python 3 (ipykernel)",
   "language": "python",
   "name": "python3"
  },
  "language_info": {
   "codemirror_mode": {
    "name": "ipython",
    "version": 3
   },
   "file_extension": ".py",
   "mimetype": "text/x-python",
   "name": "python",
   "nbconvert_exporter": "python",
   "pygments_lexer": "ipython3",
   "version": "3.12.8"
  },
  "toc": {
   "base_numbering": 1,
   "nav_menu": {},
   "number_sections": true,
   "sideBar": true,
   "skip_h1_title": false,
   "title_cell": "Table of Contents",
   "title_sidebar": "Contents",
   "toc_cell": false,
   "toc_position": {},
   "toc_section_display": true,
   "toc_window_display": false
  }
 },
 "nbformat": 4,
 "nbformat_minor": 5
}
